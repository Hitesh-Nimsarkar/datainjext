{
 "cells": [
  {
   "cell_type": "code",
   "execution_count": 0,
   "metadata": {
    "application/vnd.databricks.v1+cell": {
     "cellMetadata": {
      "byteLimit": 2048000,
      "rowLimit": 10000
     },
     "inputWidgets": {},
     "nuid": "d4575899-9bc9-4657-add0-e5c17deb47d3",
     "showTitle": false,
     "tableResultSettingsMap": {},
     "title": ""
    }
   },
   "outputs": [],
   "source": [
    "\n",
    "import sys\n",
    "sys.path.append(\"/Workspace/Users/hitesh.nimsarkar.8319@gmail.com/datainjext\")\n",
    "\n",
    "from utils import load_config\n",
    "from pipeline_runner import run_pipeline\n",
    "\n",
    "# Load YAML config\n",
    "#config = load_config(\"/Workspace/Users/hitesh.nimsarkar.8319@gmail.com/datainjext/configs/store_a.yaml\")\n",
    "\n",
    "# Run the pipeline\n",
    "run_pipeline(\"/Workspace/Users/hitesh.nimsarkar.8319@gmail.com/datainjext/configs/store_a.yaml\")\n"
   ]
  }
 ],
 "metadata": {
  "application/vnd.databricks.v1+notebook": {
   "computePreferences": null,
   "dashboards": [],
   "environmentMetadata": {
    "base_environment": "",
    "environment_version": "2"
   },
   "inputWidgetPreferences": null,
   "language": "python",
   "notebookMetadata": {
    "pythonIndentUnit": 4
   },
   "notebookName": "run_store_a_notebook",
   "widgets": {}
  },
  "language_info": {
   "name": "python"
  }
 },
 "nbformat": 4,
 "nbformat_minor": 0
}
